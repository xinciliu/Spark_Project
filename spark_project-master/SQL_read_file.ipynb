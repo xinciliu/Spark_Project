{
 "cells": [
  {
   "cell_type": "markdown",
   "metadata": {},
   "source": [
    "### 1. Setup the Spark Environment"
   ]
  },
  {
   "cell_type": "code",
   "execution_count": 2,
   "metadata": {},
   "outputs": [],
   "source": [
    "import pandas as pd\n",
    "import pyspark\n",
    "from pyspark.context import SparkContext\n",
    "from pyspark.sql.session import SparkSession\n",
    "sc = SparkContext('local')\n",
    "spark = SparkSession(sc)"
   ]
  },
  {
   "cell_type": "markdown",
   "metadata": {},
   "source": [
    "### 2. Read SQL Script from local_txt_file"
   ]
  },
  {
   "cell_type": "markdown",
   "metadata": {},
   "source": [
    "### PS: mainly the function is to count how many transactions for each CurrencyType"
   ]
  },
  {
   "cell_type": "code",
   "execution_count": 3,
   "metadata": {},
   "outputs": [],
   "source": [
    "sql_file= open('/Users/AmandaJia/Desktop/MPS_Spark/sql_query', 'r')\n",
    "sql_query = sql_file.readline()"
   ]
  },
  {
   "cell_type": "markdown",
   "metadata": {},
   "source": [
    "### 3. Generate the Spark Dataframe"
   ]
  },
  {
   "cell_type": "code",
   "execution_count": 4,
   "metadata": {},
   "outputs": [],
   "source": [
    "df = spark.read.format(\"csv\").option(\"header\", \"true\").load(\"file:/Users/AmandaJia/Desktop/MPS_Spark/mockdata.csv\")"
   ]
  },
  {
   "cell_type": "code",
   "execution_count": 5,
   "metadata": {},
   "outputs": [
    {
     "name": "stdout",
     "output_type": "stream",
     "text": [
      "+---------+--------+-------+--------+-----------+---------+--------+-------------+\n",
      "|AssetType|customer|TradeId|AggGroup|tradingBook|StartDate| endDate|tradeCurrency|\n",
      "+---------+--------+-------+--------+-----------+---------+--------+-------------+\n",
      "|  IR_SWAP|      C0|     T0|      A0|        TB0| 20190807|20210322|          USD|\n",
      "|  IR_SWAP|      C1|     T1|      A1|        TB0| 20190807|20191206|          AUD|\n",
      "|  IR_SWAP|      C0|     T2|      A0|        TB0| 20190807|20210322|          USD|\n",
      "|  IR_SWAP|      C0|     T3|      A0|        TB0| 20190807|20210322|          USD|\n",
      "|  IR_SWAP|      C1|     T4|      A1|        TB0| 20190807|20240621|          AUD|\n",
      "|  IR_SWAP|      C0|     T5|      A0|        TB0| 20190807|20210322|          USD|\n",
      "|  IR_SWAP|      C1|     T6|      A1|        TB0| 20190807|20191001|          AUD|\n",
      "|  IR_SWAP|      C1|     T7|      A1|        TB0| 20190807|20200629|          NZD|\n",
      "|  IR_SWAP|      C1|     T8|      A1|        TB0| 20190807|20240411|          AUD|\n",
      "|  IR_SWAP|      C1|     T9|      A1|        TB0| 20190807|20200320|          AUD|\n",
      "|  IR_SWAP|      C1|    T10|      A1|        TB0| 20190807|20191122|          AUD|\n",
      "|  IR_SWAP|      C1|    T11|      A1|        TB0| 20190807|20290308|          NZD|\n",
      "|  IR_SWAP|      C1|    T12|      A1|        TB0| 20190807|20200116|          AUD|\n",
      "|  IR_SWAP|      C1|    T13|      A1|        TB0| 20190807|20200121|          AUD|\n",
      "|  IR_SWAP|      C1|    T14|      A1|        TB0| 20190807|20300114|          AUD|\n",
      "|  IR_SWAP|      C1|    T15|      A1|        TB0| 20190807|20210920|          NZD|\n",
      "|  IR_SWAP|      C1|    T16|      A1|        TB0| 20190807|20210920|          NZD|\n",
      "|  IR_SWAP|      C1|    T17|      A1|        TB0| 20190807|20210920|          NZD|\n",
      "|  IR_SWAP|      C1|    T18|      A1|        TB0| 20190807|20191108|          AUD|\n",
      "|  IR_SWAP|      C1|    T19|      A1|        TB0| 20190807|20210920|          NZD|\n",
      "+---------+--------+-------+--------+-----------+---------+--------+-------------+\n",
      "only showing top 20 rows\n",
      "\n"
     ]
    }
   ],
   "source": [
    "df.show()"
   ]
  },
  {
   "cell_type": "markdown",
   "metadata": {},
   "source": [
    "### 4. Loading the SQL Script Using Spark"
   ]
  },
  {
   "cell_type": "code",
   "execution_count": 6,
   "metadata": {},
   "outputs": [],
   "source": [
    "df.createOrReplaceTempView(\"transactions\")\n",
    "results = spark.sql(sql_query)"
   ]
  },
  {
   "cell_type": "code",
   "execution_count": 7,
   "metadata": {},
   "outputs": [
    {
     "name": "stdout",
     "output_type": "stream",
     "text": [
      "+-------------+-------------+\n",
      "|tradeCurrency|num_of_trades|\n",
      "+-------------+-------------+\n",
      "|          AUD|           46|\n",
      "|          SGD|            3|\n",
      "|          NZD|       251417|\n",
      "|          NZD|           40|\n",
      "|          CNY|       249613|\n",
      "|          AUD|       249375|\n",
      "|          USD|           11|\n",
      "|          USD|       249795|\n",
      "+-------------+-------------+\n",
      "\n"
     ]
    }
   ],
   "source": [
    "results.show()"
   ]
  },
  {
   "cell_type": "markdown",
   "metadata": {},
   "source": [
    "# Comparison of Spark_SQL & Pandas DataFrame"
   ]
  },
  {
   "cell_type": "code",
   "execution_count": null,
   "metadata": {},
   "outputs": [],
   "source": [
    "%%time\n",
    "#df.createOrReplaceTempView(\"transactions\")\n",
    "results = spark.sql(sql_query)\n",
    "#results.show()"
   ]
  },
  {
   "cell_type": "code",
   "execution_count": null,
   "metadata": {},
   "outputs": [],
   "source": [
    "df_pd = pd.read_csv('mockdata.csv')"
   ]
  },
  {
   "cell_type": "code",
   "execution_count": null,
   "metadata": {},
   "outputs": [],
   "source": [
    "df_pd.head()"
   ]
  },
  {
   "cell_type": "code",
   "execution_count": null,
   "metadata": {},
   "outputs": [],
   "source": [
    "%%time\n",
    "df_pd.groupby('tradeCurrency').count()[['customer']]"
   ]
  },
  {
   "cell_type": "code",
   "execution_count": null,
   "metadata": {},
   "outputs": [],
   "source": []
  }
 ],
 "metadata": {
  "kernelspec": {
   "display_name": "Python 3",
   "language": "python",
   "name": "python3"
  },
  "language_info": {
   "codemirror_mode": {
    "name": "ipython",
    "version": 3
   },
   "file_extension": ".py",
   "mimetype": "text/x-python",
   "name": "python",
   "nbconvert_exporter": "python",
   "pygments_lexer": "ipython3",
   "version": "3.7.2"
  }
 },
 "nbformat": 4,
 "nbformat_minor": 2
}
